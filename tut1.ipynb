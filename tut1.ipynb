{
 "cells": [
  {
   "cell_type": "code",
   "execution_count": 63,
   "id": "100b1bf9-f973-4e7f-acb1-06c31db9b574",
   "metadata": {},
   "outputs": [],
   "source": [
    "import pandas as pd\n",
    "import numpy as np"
   ]
  },
  {
   "cell_type": "code",
   "execution_count": 73,
   "id": "f03cec87-a9fb-4adf-b4cc-b20c64fa3bd5",
   "metadata": {},
   "outputs": [],
   "source": [
    "df=pd.read_csv(\"nba.csv\")\n"
   ]
  },
  {
   "cell_type": "markdown",
   "id": "f5dd77e5-dede-4e82-93de-cbea28c02054",
   "metadata": {},
   "source": [
    "<h1> Read Csv File</h1>"
   ]
  },
  {
   "cell_type": "code",
   "execution_count": 76,
   "id": "e8945b65-1ece-4a7e-99b4-e257ac607f3b",
   "metadata": {},
   "outputs": [
    {
     "data": {
      "text/html": [
       "<div>\n",
       "<style scoped>\n",
       "    .dataframe tbody tr th:only-of-type {\n",
       "        vertical-align: middle;\n",
       "    }\n",
       "\n",
       "    .dataframe tbody tr th {\n",
       "        vertical-align: top;\n",
       "    }\n",
       "\n",
       "    .dataframe thead th {\n",
       "        text-align: right;\n",
       "    }\n",
       "</style>\n",
       "<table border=\"1\" class=\"dataframe\">\n",
       "  <thead>\n",
       "    <tr style=\"text-align: right;\">\n",
       "      <th></th>\n",
       "      <th>Name</th>\n",
       "      <th>Team</th>\n",
       "      <th>Number</th>\n",
       "      <th>Position</th>\n",
       "      <th>Age</th>\n",
       "      <th>Height</th>\n",
       "      <th>Weight</th>\n",
       "      <th>College</th>\n",
       "      <th>Salary</th>\n",
       "    </tr>\n",
       "  </thead>\n",
       "  <tbody>\n",
       "    <tr>\n",
       "      <th>0</th>\n",
       "      <td>Avery Bradley</td>\n",
       "      <td>Boston Celtics</td>\n",
       "      <td>0.0</td>\n",
       "      <td>PG</td>\n",
       "      <td>25</td>\n",
       "      <td>2-Jun</td>\n",
       "      <td>180</td>\n",
       "      <td>Texas</td>\n",
       "      <td>7730337.0</td>\n",
       "    </tr>\n",
       "    <tr>\n",
       "      <th>1</th>\n",
       "      <td>Jae Crowder</td>\n",
       "      <td>Boston Celtics</td>\n",
       "      <td>99.0</td>\n",
       "      <td>SF</td>\n",
       "      <td>25</td>\n",
       "      <td>6-Jun</td>\n",
       "      <td>235</td>\n",
       "      <td>Marquette</td>\n",
       "      <td>6796117.0</td>\n",
       "    </tr>\n",
       "    <tr>\n",
       "      <th>2</th>\n",
       "      <td>John Holland</td>\n",
       "      <td>Boston Celtics</td>\n",
       "      <td>30.0</td>\n",
       "      <td>SG</td>\n",
       "      <td>27</td>\n",
       "      <td>5-Jun</td>\n",
       "      <td>205</td>\n",
       "      <td>Boston University</td>\n",
       "      <td>NaN</td>\n",
       "    </tr>\n",
       "    <tr>\n",
       "      <th>3</th>\n",
       "      <td>R.J. Hunter</td>\n",
       "      <td>Boston Celtics</td>\n",
       "      <td>28.0</td>\n",
       "      <td>SG</td>\n",
       "      <td>22</td>\n",
       "      <td>5-Jun</td>\n",
       "      <td>185</td>\n",
       "      <td>Georgia State</td>\n",
       "      <td>1148640.0</td>\n",
       "    </tr>\n",
       "    <tr>\n",
       "      <th>4</th>\n",
       "      <td>Jonas Jerebko</td>\n",
       "      <td>Boston Celtics</td>\n",
       "      <td>8.0</td>\n",
       "      <td>PF</td>\n",
       "      <td>29</td>\n",
       "      <td>10-Jun</td>\n",
       "      <td>231</td>\n",
       "      <td>NaN</td>\n",
       "      <td>5000000.0</td>\n",
       "    </tr>\n",
       "    <tr>\n",
       "      <th>...</th>\n",
       "      <td>...</td>\n",
       "      <td>...</td>\n",
       "      <td>...</td>\n",
       "      <td>...</td>\n",
       "      <td>...</td>\n",
       "      <td>...</td>\n",
       "      <td>...</td>\n",
       "      <td>...</td>\n",
       "      <td>...</td>\n",
       "    </tr>\n",
       "    <tr>\n",
       "      <th>452</th>\n",
       "      <td>Trey Lyles</td>\n",
       "      <td>Utah Jazz</td>\n",
       "      <td>41.0</td>\n",
       "      <td>PF</td>\n",
       "      <td>20</td>\n",
       "      <td>10-Jun</td>\n",
       "      <td>234</td>\n",
       "      <td>Kentucky</td>\n",
       "      <td>2239800.0</td>\n",
       "    </tr>\n",
       "    <tr>\n",
       "      <th>453</th>\n",
       "      <td>Shelvin Mack</td>\n",
       "      <td>Utah Jazz</td>\n",
       "      <td>8.0</td>\n",
       "      <td>PG</td>\n",
       "      <td>26</td>\n",
       "      <td>3-Jun</td>\n",
       "      <td>203</td>\n",
       "      <td>Butler</td>\n",
       "      <td>2433333.0</td>\n",
       "    </tr>\n",
       "    <tr>\n",
       "      <th>454</th>\n",
       "      <td>Raul Neto</td>\n",
       "      <td>Utah Jazz</td>\n",
       "      <td>25.0</td>\n",
       "      <td>PG</td>\n",
       "      <td>24</td>\n",
       "      <td>1-Jun</td>\n",
       "      <td>179</td>\n",
       "      <td>NaN</td>\n",
       "      <td>900000.0</td>\n",
       "    </tr>\n",
       "    <tr>\n",
       "      <th>455</th>\n",
       "      <td>Tibor Pleiss</td>\n",
       "      <td>Utah Jazz</td>\n",
       "      <td>21.0</td>\n",
       "      <td>C</td>\n",
       "      <td>26</td>\n",
       "      <td>3-Jul</td>\n",
       "      <td>256</td>\n",
       "      <td>NaN</td>\n",
       "      <td>2900000.0</td>\n",
       "    </tr>\n",
       "    <tr>\n",
       "      <th>456</th>\n",
       "      <td>Jeff Withey</td>\n",
       "      <td>Utah Jazz</td>\n",
       "      <td>24.0</td>\n",
       "      <td>C</td>\n",
       "      <td>26</td>\n",
       "      <td>Jul-00</td>\n",
       "      <td>231</td>\n",
       "      <td>Kansas</td>\n",
       "      <td>947276.0</td>\n",
       "    </tr>\n",
       "  </tbody>\n",
       "</table>\n",
       "<p>457 rows × 9 columns</p>\n",
       "</div>"
      ],
      "text/plain": [
       "              Name            Team  Number Position  Age  Height  Weight  \\\n",
       "0    Avery Bradley  Boston Celtics     0.0       PG   25   2-Jun     180   \n",
       "1      Jae Crowder  Boston Celtics    99.0       SF   25   6-Jun     235   \n",
       "2     John Holland  Boston Celtics    30.0       SG   27   5-Jun     205   \n",
       "3      R.J. Hunter  Boston Celtics    28.0       SG   22   5-Jun     185   \n",
       "4    Jonas Jerebko  Boston Celtics     8.0       PF   29  10-Jun     231   \n",
       "..             ...             ...     ...      ...  ...     ...     ...   \n",
       "452     Trey Lyles       Utah Jazz    41.0       PF   20  10-Jun     234   \n",
       "453   Shelvin Mack       Utah Jazz     8.0       PG   26   3-Jun     203   \n",
       "454      Raul Neto       Utah Jazz    25.0       PG   24   1-Jun     179   \n",
       "455   Tibor Pleiss       Utah Jazz    21.0        C   26   3-Jul     256   \n",
       "456    Jeff Withey       Utah Jazz    24.0        C   26  Jul-00     231   \n",
       "\n",
       "               College     Salary  \n",
       "0                Texas  7730337.0  \n",
       "1            Marquette  6796117.0  \n",
       "2    Boston University        NaN  \n",
       "3        Georgia State  1148640.0  \n",
       "4                  NaN  5000000.0  \n",
       "..                 ...        ...  \n",
       "452           Kentucky  2239800.0  \n",
       "453             Butler  2433333.0  \n",
       "454                NaN   900000.0  \n",
       "455                NaN  2900000.0  \n",
       "456             Kansas   947276.0  \n",
       "\n",
       "[457 rows x 9 columns]"
      ]
     },
     "execution_count": 76,
     "metadata": {},
     "output_type": "execute_result"
    }
   ],
   "source": [
    "df"
   ]
  },
  {
   "cell_type": "markdown",
   "id": "0ca596ed-6c3d-4084-88cd-f175f78d5f45",
   "metadata": {},
   "source": [
    "<h1>Select column Here </h1>"
   ]
  },
  {
   "cell_type": "code",
   "execution_count": 33,
   "id": "3833332c-9612-4ec2-b05a-60d1d80d688c",
   "metadata": {},
   "outputs": [],
   "source": [
    "colu=df[\"Position\"]"
   ]
  },
  {
   "cell_type": "code",
   "execution_count": 51,
   "id": "269de222-f2a9-40ed-8625-7ad6bfcd2c1c",
   "metadata": {},
   "outputs": [
    {
     "data": {
      "text/plain": [
       "0      PG\n",
       "1      SF\n",
       "2      SG\n",
       "3      SG\n",
       "4      PF\n",
       "       ..\n",
       "452    PF\n",
       "453    PG\n",
       "454    PG\n",
       "455     C\n",
       "456     C\n",
       "Name: Position, Length: 457, dtype: object"
      ]
     },
     "execution_count": 51,
     "metadata": {},
     "output_type": "execute_result"
    }
   ],
   "source": [
    "colu"
   ]
  },
  {
   "cell_type": "markdown",
   "id": "792de5f6-2b14-4d19-add7-771a944c0eae",
   "metadata": {},
   "source": [
    "<h1>Row index</h1>"
   ]
  },
  {
   "cell_type": "code",
   "execution_count": 52,
   "id": "91d0c8db-b7a6-4913-8c2c-2d125f6ca817",
   "metadata": {},
   "outputs": [],
   "source": [
    "rowe=df.loc[1]"
   ]
  },
  {
   "cell_type": "code",
   "execution_count": 53,
   "id": "1b80a455-dd02-43f9-9b0d-5f07def542f4",
   "metadata": {},
   "outputs": [
    {
     "data": {
      "text/plain": [
       "Name           Jae Crowder\n",
       "Team        Boston Celtics\n",
       "Number                99.0\n",
       "Position                SF\n",
       "Age                     25\n",
       "Height               6-Jun\n",
       "Weight                 235\n",
       "College          Marquette\n",
       "Salary           6796117.0\n",
       "Name: 1, dtype: object"
      ]
     },
     "execution_count": 53,
     "metadata": {},
     "output_type": "execute_result"
    }
   ],
   "source": [
    "rowe"
   ]
  },
  {
   "cell_type": "markdown",
   "id": "ddc5addd-824b-4402-ba27-3621540774af",
   "metadata": {},
   "source": [
    "<h1>Sorting Values\n",
    "</h1>"
   ]
  },
  {
   "cell_type": "code",
   "execution_count": 54,
   "id": "653187a0-94d2-4184-b61d-dc0ad2cc1dca",
   "metadata": {},
   "outputs": [
    {
     "data": {
      "text/html": [
       "<div>\n",
       "<style scoped>\n",
       "    .dataframe tbody tr th:only-of-type {\n",
       "        vertical-align: middle;\n",
       "    }\n",
       "\n",
       "    .dataframe tbody tr th {\n",
       "        vertical-align: top;\n",
       "    }\n",
       "\n",
       "    .dataframe thead th {\n",
       "        text-align: right;\n",
       "    }\n",
       "</style>\n",
       "<table border=\"1\" class=\"dataframe\">\n",
       "  <thead>\n",
       "    <tr style=\"text-align: right;\">\n",
       "      <th></th>\n",
       "      <th>Weight</th>\n",
       "      <th>Team</th>\n",
       "      <th>Salary</th>\n",
       "      <th>Position</th>\n",
       "      <th>Number</th>\n",
       "      <th>Name</th>\n",
       "      <th>Height</th>\n",
       "      <th>College</th>\n",
       "      <th>Age</th>\n",
       "    </tr>\n",
       "  </thead>\n",
       "  <tbody>\n",
       "    <tr>\n",
       "      <th>0</th>\n",
       "      <td>180</td>\n",
       "      <td>Boston Celtics</td>\n",
       "      <td>7730337.0</td>\n",
       "      <td>PG</td>\n",
       "      <td>0.0</td>\n",
       "      <td>Avery Bradley</td>\n",
       "      <td>2-Jun</td>\n",
       "      <td>Texas</td>\n",
       "      <td>25</td>\n",
       "    </tr>\n",
       "    <tr>\n",
       "      <th>1</th>\n",
       "      <td>235</td>\n",
       "      <td>Boston Celtics</td>\n",
       "      <td>6796117.0</td>\n",
       "      <td>SF</td>\n",
       "      <td>99.0</td>\n",
       "      <td>Jae Crowder</td>\n",
       "      <td>6-Jun</td>\n",
       "      <td>Marquette</td>\n",
       "      <td>25</td>\n",
       "    </tr>\n",
       "    <tr>\n",
       "      <th>2</th>\n",
       "      <td>205</td>\n",
       "      <td>Boston Celtics</td>\n",
       "      <td>NaN</td>\n",
       "      <td>SG</td>\n",
       "      <td>30.0</td>\n",
       "      <td>John Holland</td>\n",
       "      <td>5-Jun</td>\n",
       "      <td>Boston University</td>\n",
       "      <td>27</td>\n",
       "    </tr>\n",
       "    <tr>\n",
       "      <th>3</th>\n",
       "      <td>185</td>\n",
       "      <td>Boston Celtics</td>\n",
       "      <td>1148640.0</td>\n",
       "      <td>SG</td>\n",
       "      <td>28.0</td>\n",
       "      <td>R.J. Hunter</td>\n",
       "      <td>5-Jun</td>\n",
       "      <td>Georgia State</td>\n",
       "      <td>22</td>\n",
       "    </tr>\n",
       "    <tr>\n",
       "      <th>4</th>\n",
       "      <td>231</td>\n",
       "      <td>Boston Celtics</td>\n",
       "      <td>5000000.0</td>\n",
       "      <td>PF</td>\n",
       "      <td>8.0</td>\n",
       "      <td>Jonas Jerebko</td>\n",
       "      <td>10-Jun</td>\n",
       "      <td>NaN</td>\n",
       "      <td>29</td>\n",
       "    </tr>\n",
       "    <tr>\n",
       "      <th>...</th>\n",
       "      <td>...</td>\n",
       "      <td>...</td>\n",
       "      <td>...</td>\n",
       "      <td>...</td>\n",
       "      <td>...</td>\n",
       "      <td>...</td>\n",
       "      <td>...</td>\n",
       "      <td>...</td>\n",
       "      <td>...</td>\n",
       "    </tr>\n",
       "    <tr>\n",
       "      <th>452</th>\n",
       "      <td>234</td>\n",
       "      <td>Utah Jazz</td>\n",
       "      <td>2239800.0</td>\n",
       "      <td>PF</td>\n",
       "      <td>41.0</td>\n",
       "      <td>Trey Lyles</td>\n",
       "      <td>10-Jun</td>\n",
       "      <td>Kentucky</td>\n",
       "      <td>20</td>\n",
       "    </tr>\n",
       "    <tr>\n",
       "      <th>453</th>\n",
       "      <td>203</td>\n",
       "      <td>Utah Jazz</td>\n",
       "      <td>2433333.0</td>\n",
       "      <td>PG</td>\n",
       "      <td>8.0</td>\n",
       "      <td>Shelvin Mack</td>\n",
       "      <td>3-Jun</td>\n",
       "      <td>Butler</td>\n",
       "      <td>26</td>\n",
       "    </tr>\n",
       "    <tr>\n",
       "      <th>454</th>\n",
       "      <td>179</td>\n",
       "      <td>Utah Jazz</td>\n",
       "      <td>900000.0</td>\n",
       "      <td>PG</td>\n",
       "      <td>25.0</td>\n",
       "      <td>Raul Neto</td>\n",
       "      <td>1-Jun</td>\n",
       "      <td>NaN</td>\n",
       "      <td>24</td>\n",
       "    </tr>\n",
       "    <tr>\n",
       "      <th>455</th>\n",
       "      <td>256</td>\n",
       "      <td>Utah Jazz</td>\n",
       "      <td>2900000.0</td>\n",
       "      <td>C</td>\n",
       "      <td>21.0</td>\n",
       "      <td>Tibor Pleiss</td>\n",
       "      <td>3-Jul</td>\n",
       "      <td>NaN</td>\n",
       "      <td>26</td>\n",
       "    </tr>\n",
       "    <tr>\n",
       "      <th>456</th>\n",
       "      <td>231</td>\n",
       "      <td>Utah Jazz</td>\n",
       "      <td>947276.0</td>\n",
       "      <td>C</td>\n",
       "      <td>24.0</td>\n",
       "      <td>Jeff Withey</td>\n",
       "      <td>Jul-00</td>\n",
       "      <td>Kansas</td>\n",
       "      <td>26</td>\n",
       "    </tr>\n",
       "  </tbody>\n",
       "</table>\n",
       "<p>457 rows × 9 columns</p>\n",
       "</div>"
      ],
      "text/plain": [
       "     Weight            Team     Salary Position  Number           Name  \\\n",
       "0       180  Boston Celtics  7730337.0       PG     0.0  Avery Bradley   \n",
       "1       235  Boston Celtics  6796117.0       SF    99.0    Jae Crowder   \n",
       "2       205  Boston Celtics        NaN       SG    30.0   John Holland   \n",
       "3       185  Boston Celtics  1148640.0       SG    28.0    R.J. Hunter   \n",
       "4       231  Boston Celtics  5000000.0       PF     8.0  Jonas Jerebko   \n",
       "..      ...             ...        ...      ...     ...            ...   \n",
       "452     234       Utah Jazz  2239800.0       PF    41.0     Trey Lyles   \n",
       "453     203       Utah Jazz  2433333.0       PG     8.0   Shelvin Mack   \n",
       "454     179       Utah Jazz   900000.0       PG    25.0      Raul Neto   \n",
       "455     256       Utah Jazz  2900000.0        C    21.0   Tibor Pleiss   \n",
       "456     231       Utah Jazz   947276.0        C    24.0    Jeff Withey   \n",
       "\n",
       "     Height            College  Age  \n",
       "0     2-Jun              Texas   25  \n",
       "1     6-Jun          Marquette   25  \n",
       "2     5-Jun  Boston University   27  \n",
       "3     5-Jun      Georgia State   22  \n",
       "4    10-Jun                NaN   29  \n",
       "..      ...                ...  ...  \n",
       "452  10-Jun           Kentucky   20  \n",
       "453   3-Jun             Butler   26  \n",
       "454   1-Jun                NaN   24  \n",
       "455   3-Jul                NaN   26  \n",
       "456  Jul-00             Kansas   26  \n",
       "\n",
       "[457 rows x 9 columns]"
      ]
     },
     "execution_count": 54,
     "metadata": {},
     "output_type": "execute_result"
    }
   ],
   "source": [
    "df.sort_index(axis=1,ascending=False)#Sort the in  Descendi axis =1 mean column#ascending false mean descene"
   ]
  },
  {
   "cell_type": "markdown",
   "id": "1aaafe69-0d05-4168-b088-afdedde527af",
   "metadata": {},
   "source": [
    "<h1>Describe</h1>"
   ]
  },
  {
   "cell_type": "code",
   "execution_count": 58,
   "id": "cb40acd7-12c4-4685-8cde-2cca0b86e3a9",
   "metadata": {},
   "outputs": [
    {
     "data": {
      "text/html": [
       "<div>\n",
       "<style scoped>\n",
       "    .dataframe tbody tr th:only-of-type {\n",
       "        vertical-align: middle;\n",
       "    }\n",
       "\n",
       "    .dataframe tbody tr th {\n",
       "        vertical-align: top;\n",
       "    }\n",
       "\n",
       "    .dataframe thead th {\n",
       "        text-align: right;\n",
       "    }\n",
       "</style>\n",
       "<table border=\"1\" class=\"dataframe\">\n",
       "  <thead>\n",
       "    <tr style=\"text-align: right;\">\n",
       "      <th></th>\n",
       "      <th>Number</th>\n",
       "      <th>Age</th>\n",
       "      <th>Weight</th>\n",
       "      <th>Salary</th>\n",
       "    </tr>\n",
       "  </thead>\n",
       "  <tbody>\n",
       "    <tr>\n",
       "      <th>count</th>\n",
       "      <td>455.000000</td>\n",
       "      <td>457.000000</td>\n",
       "      <td>457.000000</td>\n",
       "      <td>4.450000e+02</td>\n",
       "    </tr>\n",
       "    <tr>\n",
       "      <th>mean</th>\n",
       "      <td>17.668132</td>\n",
       "      <td>26.938731</td>\n",
       "      <td>221.522976</td>\n",
       "      <td>4.853190e+06</td>\n",
       "    </tr>\n",
       "    <tr>\n",
       "      <th>std</th>\n",
       "      <td>15.945315</td>\n",
       "      <td>4.404016</td>\n",
       "      <td>26.368343</td>\n",
       "      <td>5.230408e+06</td>\n",
       "    </tr>\n",
       "    <tr>\n",
       "      <th>min</th>\n",
       "      <td>0.000000</td>\n",
       "      <td>19.000000</td>\n",
       "      <td>161.000000</td>\n",
       "      <td>3.088800e+04</td>\n",
       "    </tr>\n",
       "    <tr>\n",
       "      <th>25%</th>\n",
       "      <td>5.000000</td>\n",
       "      <td>24.000000</td>\n",
       "      <td>200.000000</td>\n",
       "      <td>1.074169e+06</td>\n",
       "    </tr>\n",
       "    <tr>\n",
       "      <th>50%</th>\n",
       "      <td>13.000000</td>\n",
       "      <td>26.000000</td>\n",
       "      <td>220.000000</td>\n",
       "      <td>2.841960e+06</td>\n",
       "    </tr>\n",
       "    <tr>\n",
       "      <th>75%</th>\n",
       "      <td>25.000000</td>\n",
       "      <td>30.000000</td>\n",
       "      <td>240.000000</td>\n",
       "      <td>6.500000e+06</td>\n",
       "    </tr>\n",
       "    <tr>\n",
       "      <th>max</th>\n",
       "      <td>99.000000</td>\n",
       "      <td>40.000000</td>\n",
       "      <td>307.000000</td>\n",
       "      <td>2.500000e+07</td>\n",
       "    </tr>\n",
       "  </tbody>\n",
       "</table>\n",
       "</div>"
      ],
      "text/plain": [
       "           Number         Age      Weight        Salary\n",
       "count  455.000000  457.000000  457.000000  4.450000e+02\n",
       "mean    17.668132   26.938731  221.522976  4.853190e+06\n",
       "std     15.945315    4.404016   26.368343  5.230408e+06\n",
       "min      0.000000   19.000000  161.000000  3.088800e+04\n",
       "25%      5.000000   24.000000  200.000000  1.074169e+06\n",
       "50%     13.000000   26.000000  220.000000  2.841960e+06\n",
       "75%     25.000000   30.000000  240.000000  6.500000e+06\n",
       "max     99.000000   40.000000  307.000000  2.500000e+07"
      ]
     },
     "execution_count": 58,
     "metadata": {},
     "output_type": "execute_result"
    }
   ],
   "source": [
    "df.describe()"
   ]
  },
  {
   "cell_type": "markdown",
   "id": "f7836f3f-857d-4247-b0fe-09d12ad8cd6f",
   "metadata": {},
   "source": [
    "<h1>Checking The DataType</h1>"
   ]
  },
  {
   "cell_type": "code",
   "execution_count": 21,
   "id": "45789b1f-f0eb-44af-ac85-da4f9ef8a21f",
   "metadata": {},
   "outputs": [
    {
     "data": {
      "text/plain": [
       "Name         object\n",
       "Team         object\n",
       "Number      float64\n",
       "Position     object\n",
       "Age           int64\n",
       "Height       object\n",
       "Weight        int64\n",
       "College      object\n",
       "Salary      float64\n",
       "dtype: object"
      ]
     },
     "execution_count": 21,
     "metadata": {},
     "output_type": "execute_result"
    }
   ],
   "source": [
    "df.dtypes #Checking The Datatype"
   ]
  },
  {
   "cell_type": "markdown",
   "id": "4a6a3f47-feb8-4d3e-8a7d-9b360467ff25",
   "metadata": {},
   "source": [
    "<h1>Unique Values</h1>"
   ]
  },
  {
   "cell_type": "code",
   "execution_count": 59,
   "id": "b65363ec-c944-4b65-8547-be14d4f9fa3f",
   "metadata": {},
   "outputs": [
    {
     "data": {
      "text/plain": [
       "Name        457\n",
       "Team         30\n",
       "Number       53\n",
       "Position      5\n",
       "Age          22\n",
       "Height       18\n",
       "Weight       87\n",
       "College     118\n",
       "Salary      308\n",
       "dtype: int64"
      ]
     },
     "execution_count": 59,
     "metadata": {},
     "output_type": "execute_result"
    }
   ],
   "source": [
    "df.nunique()#Unique Value"
   ]
  },
  {
   "cell_type": "markdown",
   "id": "ef402ee5-b740-4801-9b7b-d8cde023a2be",
   "metadata": {},
   "source": [
    "<h1>Format Of The Column</h1>"
   ]
  },
  {
   "cell_type": "code",
   "execution_count": 60,
   "id": "ca2a2117-2253-450b-8f0e-168ab7628658",
   "metadata": {},
   "outputs": [
    {
     "name": "stdout",
     "output_type": "stream",
     "text": [
      "<class 'pandas.core.frame.DataFrame'>\n",
      "RangeIndex: 457 entries, 0 to 456\n",
      "Data columns (total 9 columns):\n",
      " #   Column    Non-Null Count  Dtype  \n",
      "---  ------    --------------  -----  \n",
      " 0   Name      457 non-null    object \n",
      " 1   Team      457 non-null    object \n",
      " 2   Number    455 non-null    float64\n",
      " 3   Position  457 non-null    object \n",
      " 4   Age       457 non-null    int64  \n",
      " 5   Height    457 non-null    object \n",
      " 6   Weight    457 non-null    int64  \n",
      " 7   College   373 non-null    object \n",
      " 8   Salary    445 non-null    float64\n",
      "dtypes: float64(2), int64(2), object(5)\n",
      "memory usage: 32.3+ KB\n"
     ]
    }
   ],
   "source": [
    "df.info()#Format of the column"
   ]
  },
  {
   "cell_type": "code",
   "execution_count": 61,
   "id": "fc44f5ee-0d5c-443f-ab7b-4f76fca21f30",
   "metadata": {},
   "outputs": [
    {
     "name": "stdout",
     "output_type": "stream",
     "text": [
      "<class 'pandas.core.frame.DataFrame'>\n",
      "RangeIndex: 457 entries, 0 to 456\n",
      "Data columns (total 9 columns):\n",
      " #   Column    Non-Null Count  Dtype  \n",
      "---  ------    --------------  -----  \n",
      " 0   Name      457 non-null    object \n",
      " 1   Team      457 non-null    object \n",
      " 2   Number    455 non-null    float64\n",
      " 3   Position  457 non-null    object \n",
      " 4   Age       457 non-null    int64  \n",
      " 5   Height    457 non-null    object \n",
      " 6   Weight    457 non-null    int64  \n",
      " 7   College   373 non-null    object \n",
      " 8   Salary    445 non-null    float64\n",
      "dtypes: float64(2), int64(2), object(5)\n",
      "memory usage: 32.3+ KB\n"
     ]
    }
   ],
   "source": [
    "df.info()"
   ]
  },
  {
   "cell_type": "markdown",
   "id": "0b276a43-dd7c-4ebe-8d97-f5e76df3d643",
   "metadata": {},
   "source": [
    "<h1>Converting Variable DataType</h1>"
   ]
  },
  {
   "cell_type": "code",
   "execution_count": 27,
   "id": "4b0775fc-2020-4970-a059-a82f07849ead",
   "metadata": {},
   "outputs": [],
   "source": [
    "var_change=df[\"Weight\"]=df[\"Weight\"].astype(\"float\")"
   ]
  },
  {
   "cell_type": "code",
   "execution_count": 45,
   "id": "47a88ebd-9e8c-4377-be20-8492834a8357",
   "metadata": {},
   "outputs": [
    {
     "data": {
      "text/plain": [
       "0      180.0\n",
       "1      235.0\n",
       "2      205.0\n",
       "3      185.0\n",
       "4      231.0\n",
       "       ...  \n",
       "452    234.0\n",
       "453    203.0\n",
       "454    179.0\n",
       "455    256.0\n",
       "456    231.0\n",
       "Name: Weight, Length: 457, dtype: float64"
      ]
     },
     "execution_count": 45,
     "metadata": {},
     "output_type": "execute_result"
    }
   ],
   "source": [
    "var_change"
   ]
  },
  {
   "cell_type": "markdown",
   "id": "9bbdf233-e0a9-4e38-8c30-43d47d5f6b9b",
   "metadata": {},
   "source": [
    "<h1>isNull Fun</h1>\n",
    "#It show missing value"
   ]
  },
  {
   "cell_type": "code",
   "execution_count": 68,
   "id": "0899dd11-b037-4d7e-9503-fa626947d620",
   "metadata": {},
   "outputs": [
    {
     "data": {
      "text/plain": [
       "Name         0\n",
       "Team         0\n",
       "Number       2\n",
       "Position     0\n",
       "Age          0\n",
       "Height       0\n",
       "Weight       0\n",
       "College     84\n",
       "Salary      12\n",
       "dtype: int64"
      ]
     },
     "execution_count": 68,
     "metadata": {},
     "output_type": "execute_result"
    }
   ],
   "source": [
    "df.isnull().sum()"
   ]
  },
  {
   "cell_type": "code",
   "execution_count": null,
   "id": "13efd6f9-328b-423a-83ab-66a60ff59c7a",
   "metadata": {},
   "outputs": [],
   "source": [
    "mmm"
   ]
  }
 ],
 "metadata": {
  "kernelspec": {
   "display_name": "Python 3 (ipykernel)",
   "language": "python",
   "name": "python3"
  },
  "language_info": {
   "codemirror_mode": {
    "name": "ipython",
    "version": 3
   },
   "file_extension": ".py",
   "mimetype": "text/x-python",
   "name": "python",
   "nbconvert_exporter": "python",
   "pygments_lexer": "ipython3",
   "version": "3.12.1"
  }
 },
 "nbformat": 4,
 "nbformat_minor": 5
}
