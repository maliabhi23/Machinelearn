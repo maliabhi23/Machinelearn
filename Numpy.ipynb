{
 "cells": [
  {
   "cell_type": "code",
   "execution_count": 3,
   "id": "02c3adf9-e90f-47f7-9feb-54ed3d9986aa",
   "metadata": {},
   "outputs": [],
   "source": [
    "import numpy as np\n",
    "                "
   ]
  },
  {
   "cell_type": "code",
   "execution_count": 3,
   "id": "0c85fe4e-4cd3-4c9f-a564-556532c1a559",
   "metadata": {},
   "outputs": [
    {
     "name": "stdout",
     "output_type": "stream",
     "text": [
      "M\n"
     ]
    }
   ],
   "source": [
    "    print(\"M\");"
   ]
  },
  {
   "cell_type": "code",
   "execution_count": 8,
   "id": "f83849c6-fbcf-4688-ad78-9637d1c2b414",
   "metadata": {},
   "outputs": [],
   "source": [
    "myarr=np.array([6,3,2,4,11],np.int64)"
   ]
  },
  {
   "cell_type": "code",
   "execution_count": 9,
   "id": "6d6c9aff-4e48-4bab-9006-ec7f346867b7",
   "metadata": {},
   "outputs": [
    {
     "data": {
      "text/plain": [
       "array([ 6,  3,  2,  4, 11], dtype=int64)"
      ]
     },
     "execution_count": 9,
     "metadata": {},
     "output_type": "execute_result"
    }
   ],
   "source": [
    "myarr"
   ]
  },
  {
   "cell_type": "code",
   "execution_count": 10,
   "id": "7b9c32cb-a74b-40ee-9a7a-531255ae77b1",
   "metadata": {},
   "outputs": [
    {
     "data": {
      "text/plain": [
       "(5,)"
      ]
     },
     "execution_count": 10,
     "metadata": {},
     "output_type": "execute_result"
    }
   ],
   "source": [
    "myarr.shape"
   ]
  },
  {
   "cell_type": "code",
   "execution_count": 14,
   "id": "70a3a615-0d4b-408e-a61d-1c034d56d86b",
   "metadata": {},
   "outputs": [
    {
     "data": {
      "text/plain": [
       "dtype('int64')"
      ]
     },
     "execution_count": 14,
     "metadata": {},
     "output_type": "execute_result"
    }
   ],
   "source": [
    "myarr.dtype"
   ]
  },
  {
   "cell_type": "code",
   "execution_count": 8,
   "id": "247bca1c-a3a4-47f1-8c52-5af0d5190f68",
   "metadata": {},
   "outputs": [],
   "source": [
    "marray=np.array([[3,2,1],[6,7,8],[6,6,7]])"
   ]
  },
  {
   "cell_type": "code",
   "execution_count": 10,
   "id": "26958bd6-31f8-437c-8263-7bc00adba2b8",
   "metadata": {},
   "outputs": [
    {
     "data": {
      "text/plain": [
       "array([[3, 2, 1],\n",
       "       [6, 7, 8],\n",
       "       [6, 6, 7]])"
      ]
     },
     "execution_count": 10,
     "metadata": {},
     "output_type": "execute_result"
    }
   ],
   "source": [
    "marray"
   ]
  },
  {
   "cell_type": "code",
   "execution_count": 11,
   "id": "f6924df5-f6f5-4802-aa87-ee0f879af1ee",
   "metadata": {},
   "outputs": [
    {
     "data": {
      "text/plain": [
       "(3, 3)"
      ]
     },
     "execution_count": 11,
     "metadata": {},
     "output_type": "execute_result"
    }
   ],
   "source": [
    "marray.shape"
   ]
  },
  {
   "cell_type": "code",
   "execution_count": 14,
   "id": "c54e0145-9483-4750-8ec4-7972bd80592e",
   "metadata": {},
   "outputs": [
    {
     "data": {
      "text/plain": [
       "dtype('int32')"
      ]
     },
     "execution_count": 14,
     "metadata": {},
     "output_type": "execute_result"
    }
   ],
   "source": [
    "marray.dtype"
   ]
  },
  {
   "cell_type": "code",
   "execution_count": 16,
   "id": "266f4dd9-a44f-4f98-ab0a-6fbde3a042b1",
   "metadata": {},
   "outputs": [],
   "source": [
    "i=np.arange(15)#print the from 0 to 14"
   ]
  },
  {
   "cell_type": "code",
   "execution_count": 17,
   "id": "3370f440-25f7-46f7-9da7-8c4fee454543",
   "metadata": {},
   "outputs": [
    {
     "data": {
      "text/plain": [
       "array([ 0,  1,  2,  3,  4,  5,  6,  7,  8,  9, 10, 11, 12, 13, 14])"
      ]
     },
     "execution_count": 17,
     "metadata": {},
     "output_type": "execute_result"
    }
   ],
   "source": [
    "i"
   ]
  },
  {
   "cell_type": "code",
   "execution_count": 23,
   "id": "f93677b2-d6c2-4810-b28b-f72d6e8a0280",
   "metadata": {},
   "outputs": [
    {
     "data": {
      "text/plain": [
       "array([[3],\n",
       "       [2],\n",
       "       [1],\n",
       "       [6],\n",
       "       [7],\n",
       "       [8],\n",
       "       [6],\n",
       "       [6],\n",
       "       [7]])"
      ]
     },
     "execution_count": 23,
     "metadata": {},
     "output_type": "execute_result"
    }
   ],
   "source": [
    "marray.reshape(9,1)"
   ]
  },
  {
   "cell_type": "code",
   "execution_count": 26,
   "id": "492830af-e6bb-47a3-9895-bd5fdae23d2d",
   "metadata": {},
   "outputs": [
    {
     "data": {
      "text/plain": [
       "array([[3, 2, 1, 6, 7, 8, 6, 6, 7]])"
      ]
     },
     "execution_count": 26,
     "metadata": {},
     "output_type": "execute_result"
    }
   ],
   "source": [
    "marray.reshape(1,9)"
   ]
  },
  {
   "cell_type": "code",
   "execution_count": 24,
   "id": "773f03b7-58ee-4c06-98ea-dfa7cd4ff57b",
   "metadata": {},
   "outputs": [
    {
     "data": {
      "text/plain": [
       "array([[3],\n",
       "       [2],\n",
       "       [1],\n",
       "       [6],\n",
       "       [7],\n",
       "       [8],\n",
       "       [6],\n",
       "       [6],\n",
       "       [7]])"
      ]
     },
     "execution_count": 24,
     "metadata": {},
     "output_type": "execute_result"
    }
   ],
   "source": [
    "marray.reshape(9,1)"
   ]
  },
  {
   "cell_type": "code",
   "execution_count": null,
   "id": "c50f4992-8155-44e0-a1a3-6470f4fb6a63",
   "metadata": {},
   "outputs": [],
   "source": []
  },
  {
   "cell_type": "code",
   "execution_count": 21,
   "id": "d5ae5ad3-7a78-4859-8fd8-27c68dcd44a0",
   "metadata": {},
   "outputs": [
    {
     "data": {
      "text/plain": [
       "9"
      ]
     },
     "execution_count": 21,
     "metadata": {},
     "output_type": "execute_result"
    }
   ],
   "source": [
    "marray.size"
   ]
  },
  {
   "cell_type": "code",
   "execution_count": 27,
   "id": "94df984e-4449-4297-95be-def2c39ec14a",
   "metadata": {},
   "outputs": [
    {
     "data": {
      "text/plain": [
       "(3, 3)"
      ]
     },
     "execution_count": 27,
     "metadata": {},
     "output_type": "execute_result"
    }
   ],
   "source": [
    "marray.shape"
   ]
  },
  {
   "cell_type": "code",
   "execution_count": 29,
   "id": "e9df063c-5613-436c-8c53-b21cffd31f71",
   "metadata": {},
   "outputs": [],
   "source": [
    "e=[[3,2,1],[6,5,4],[6,3,6]]"
   ]
  },
  {
   "cell_type": "code",
   "execution_count": 30,
   "id": "937870f1-772c-4f49-9e4e-6473b3dafcba",
   "metadata": {},
   "outputs": [],
   "source": [
    "narray=np.array(e)"
   ]
  },
  {
   "cell_type": "code",
   "execution_count": 31,
   "id": "6c8b8d62-f232-47c5-a597-27c99f84729e",
   "metadata": {},
   "outputs": [
    {
     "data": {
      "text/plain": [
       "[[3, 2, 1], [6, 5, 4], [6, 3, 6]]"
      ]
     },
     "execution_count": 31,
     "metadata": {},
     "output_type": "execute_result"
    }
   ],
   "source": [
    "e"
   ]
  },
  {
   "cell_type": "code",
   "execution_count": 35,
   "id": "49bebaa5-a7d3-4583-8f0a-e917592dac1a",
   "metadata": {},
   "outputs": [
    {
     "data": {
      "text/plain": [
       "array([15, 15, 16])"
      ]
     },
     "execution_count": 35,
     "metadata": {},
     "output_type": "execute_result"
    }
   ],
   "source": [
    "marray.sum(axis=0)#give in the verti"
   ]
  },
  {
   "cell_type": "code",
   "execution_count": 36,
   "id": "a68593fc-ddf1-4c7e-9d78-da63d7d5c50d",
   "metadata": {},
   "outputs": [
    {
     "data": {
      "text/plain": [
       "array([ 6, 21, 19])"
      ]
     },
     "execution_count": 36,
     "metadata": {},
     "output_type": "execute_result"
    }
   ],
   "source": [
    "marray.sum(axis=1)#give in the horizon"
   ]
  },
  {
   "cell_type": "code",
   "execution_count": 37,
   "id": "6caa9a88-460b-4b39-85f7-ffd5bcb34077",
   "metadata": {},
   "outputs": [
    {
     "data": {
      "text/plain": [
       "array([[3, 6, 6],\n",
       "       [2, 7, 6],\n",
       "       [1, 8, 7]])"
      ]
     },
     "execution_count": 37,
     "metadata": {},
     "output_type": "execute_result"
    }
   ],
   "source": [
    "marray.T\n"
   ]
  },
  {
   "cell_type": "code",
   "execution_count": 39,
   "id": "18a855a4-186d-417b-a77d-ba7452c271a1",
   "metadata": {},
   "outputs": [
    {
     "data": {
      "text/plain": [
       "2"
      ]
     },
     "execution_count": 39,
     "metadata": {},
     "output_type": "execute_result"
    }
   ],
   "source": [
    "marray.argmin()"
   ]
  },
  {
   "cell_type": "code",
   "execution_count": 40,
   "id": "3b111ddf-15a5-4579-a8a7-006665a596f1",
   "metadata": {},
   "outputs": [
    {
     "data": {
      "text/plain": [
       "5"
      ]
     },
     "execution_count": 40,
     "metadata": {},
     "output_type": "execute_result"
    }
   ],
   "source": [
    "marray.argmax()"
   ]
  },
  {
   "cell_type": "code",
   "execution_count": 41,
   "id": "880c2ec6-bea7-4cc5-830c-9a426f7a3ebd",
   "metadata": {},
   "outputs": [
    {
     "data": {
      "text/plain": [
       "array([[3, 2, 1],\n",
       "       [6, 7, 8],\n",
       "       [6, 6, 7]])"
      ]
     },
     "execution_count": 41,
     "metadata": {},
     "output_type": "execute_result"
    }
   ],
   "source": [
    "marray"
   ]
  },
  {
   "cell_type": "code",
   "execution_count": 42,
   "id": "fa2cc2b4-4875-46f9-bd2a-4853bfab7dc4",
   "metadata": {},
   "outputs": [
    {
     "data": {
      "text/plain": [
       "5"
      ]
     },
     "execution_count": 42,
     "metadata": {},
     "output_type": "execute_result"
    }
   ],
   "source": [
    "marray.argmax()#it the index gave of the large number "
   ]
  },
  {
   "cell_type": "code",
   "execution_count": 43,
   "id": "76f1fef6-0a38-42f0-87c1-6538083193c8",
   "metadata": {},
   "outputs": [
    {
     "data": {
      "text/plain": [
       "1"
      ]
     },
     "execution_count": 43,
     "metadata": {},
     "output_type": "execute_result"
    }
   ],
   "source": [
    "marray.min()"
   ]
  },
  {
   "cell_type": "code",
   "execution_count": null,
   "id": "04af9cc1-17ca-4e7b-9d39-9b02143d0067",
   "metadata": {},
   "outputs": [],
   "source": []
  }
 ],
 "metadata": {
  "kernelspec": {
   "display_name": "Python 3 (ipykernel)",
   "language": "python",
   "name": "python3"
  },
  "language_info": {
   "codemirror_mode": {
    "name": "ipython",
    "version": 3
   },
   "file_extension": ".py",
   "mimetype": "text/x-python",
   "name": "python",
   "nbconvert_exporter": "python",
   "pygments_lexer": "ipython3",
   "version": "3.12.1"
  }
 },
 "nbformat": 4,
 "nbformat_minor": 5
}
