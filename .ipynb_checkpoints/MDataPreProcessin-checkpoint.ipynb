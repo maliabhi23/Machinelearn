{
 "cells": [
  {
   "cell_type": "code",
   "execution_count": 52,
   "id": "d521c9e4-f6c3-4fab-8cff-0a4d78f22c34",
   "metadata": {},
   "outputs": [],
   "source": [
    "import pandas as pd #Data Preprocessing \n"
   ]
  },
  {
   "cell_type": "code",
   "execution_count": 53,
   "id": "0c2274a0-acd5-4adb-9898-3455a388d0e7",
   "metadata": {},
   "outputs": [],
   "source": [
    "import numpy as np"
   ]
  },
  {
   "cell_type": "code",
   "execution_count": 54,
   "id": "092a35b3-050e-47c6-ac3c-ae0fc648d547",
   "metadata": {},
   "outputs": [],
   "source": [
    "dataset=pd.read_csv('Demo.csv')\n",
    "#m import \n",
    "#read\n",
    "#then the take indepen on x and dependen on  y \n",
    "#m then the filll null value use the simpleimpulter then\n",
    "#m the convert the value to the  Labelencoder 1 and the 0 then the \n",
    "#m then the traim and test \n",
    "#m then the Standard Scaler m"
   ]
  },
  {
   "cell_type": "code",
   "execution_count": 55,
   "id": "530f0d6a-2ec3-4e4e-89e4-d1c0b544bc07",
   "metadata": {
    "scrolled": true
   },
   "outputs": [
    {
     "data": {
      "text/html": [
       "<div>\n",
       "<style scoped>\n",
       "    .dataframe tbody tr th:only-of-type {\n",
       "        vertical-align: middle;\n",
       "    }\n",
       "\n",
       "    .dataframe tbody tr th {\n",
       "        vertical-align: top;\n",
       "    }\n",
       "\n",
       "    .dataframe thead th {\n",
       "        text-align: right;\n",
       "    }\n",
       "</style>\n",
       "<table border=\"1\" class=\"dataframe\">\n",
       "  <thead>\n",
       "    <tr style=\"text-align: right;\">\n",
       "      <th></th>\n",
       "      <th>Country</th>\n",
       "      <th>Age</th>\n",
       "      <th>Salary</th>\n",
       "      <th>Purchase</th>\n",
       "    </tr>\n",
       "  </thead>\n",
       "  <tbody>\n",
       "    <tr>\n",
       "      <th>0</th>\n",
       "      <td>france</td>\n",
       "      <td>44.0</td>\n",
       "      <td>565.0</td>\n",
       "      <td>Yes</td>\n",
       "    </tr>\n",
       "    <tr>\n",
       "      <th>1</th>\n",
       "      <td>spain</td>\n",
       "      <td>34.0</td>\n",
       "      <td>545.0</td>\n",
       "      <td>No</td>\n",
       "    </tr>\n",
       "    <tr>\n",
       "      <th>2</th>\n",
       "      <td>italy</td>\n",
       "      <td>NaN</td>\n",
       "      <td>NaN</td>\n",
       "      <td>Yes</td>\n",
       "    </tr>\n",
       "    <tr>\n",
       "      <th>3</th>\n",
       "      <td>spain</td>\n",
       "      <td>23.0</td>\n",
       "      <td>345.0</td>\n",
       "      <td>No</td>\n",
       "    </tr>\n",
       "    <tr>\n",
       "      <th>4</th>\n",
       "      <td>france</td>\n",
       "      <td>45.0</td>\n",
       "      <td>68.0</td>\n",
       "      <td>Yes</td>\n",
       "    </tr>\n",
       "    <tr>\n",
       "      <th>5</th>\n",
       "      <td>italy</td>\n",
       "      <td>66.0</td>\n",
       "      <td>76.0</td>\n",
       "      <td>Yes</td>\n",
       "    </tr>\n",
       "  </tbody>\n",
       "</table>\n",
       "</div>"
      ],
      "text/plain": [
       "  Country   Age   Salary  Purchase\n",
       "0   france  44.0    565.0      Yes\n",
       "1    spain  34.0    545.0       No\n",
       "2    italy   NaN      NaN      Yes\n",
       "3    spain  23.0    345.0       No\n",
       "4   france  45.0     68.0      Yes\n",
       "5    italy  66.0     76.0      Yes"
      ]
     },
     "execution_count": 55,
     "metadata": {},
     "output_type": "execute_result"
    }
   ],
   "source": [
    "dataset\n"
   ]
  },
  {
   "cell_type": "code",
   "execution_count": 56,
   "id": "fb4b757d-3224-4932-aa97-8a9747093ece",
   "metadata": {},
   "outputs": [],
   "source": [
    "#Here the purchase is the dependent vriable so and indepen remain\n"
   ]
  },
  {
   "cell_type": "code",
   "execution_count": 57,
   "id": "91a7dc91-810a-422b-a15e-a7eb2767cfb4",
   "metadata": {},
   "outputs": [
    {
     "data": {
      "text/plain": [
       "Index(['Country ', 'Age ', 'Salary ', 'Purchase'], dtype='object')"
      ]
     },
     "execution_count": 57,
     "metadata": {},
     "output_type": "execute_result"
    }
   ],
   "source": [
    "dataset.columns#m the values in column mto remove whitspace"
   ]
  },
  {
   "cell_type": "code",
   "execution_count": 58,
   "id": "07ee33cb-8055-4564-9335-4a34dd4921ed",
   "metadata": {},
   "outputs": [],
   "source": [
    "dataset.columns = dataset.columns.str.strip()#mto remove whitspace\n",
    "\n"
   ]
  },
  {
   "cell_type": "code",
   "execution_count": 59,
   "id": "03b9b564-e2a1-41cb-bfca-dd2d45e998b8",
   "metadata": {},
   "outputs": [],
   "source": [
    "x=dataset[[\"Country\",\"Age\",\"Salary\"]].values # the value multiple  taken on xhereconvert to the array after it then"
   ]
  },
  {
   "cell_type": "code",
   "execution_count": 60,
   "id": "04eb8a00-f2b1-4bb4-89c5-3aefbbf0bc81",
   "metadata": {},
   "outputs": [
    {
     "data": {
      "text/plain": [
       "array([['france', 44.0, 565.0],\n",
       "       ['spain', 34.0, 545.0],\n",
       "       ['italy', nan, nan],\n",
       "       ['spain', 23.0, 345.0],\n",
       "       ['france', 45.0, 68.0],\n",
       "       ['italy', 66.0, 76.0]], dtype=object)"
      ]
     },
     "execution_count": 60,
     "metadata": {},
     "output_type": "execute_result"
    }
   ],
   "source": [
    "x"
   ]
  },
  {
   "cell_type": "code",
   "execution_count": 61,
   "id": "ebe9ff2a-e7a3-4e93-b602-b2b6374ef298",
   "metadata": {},
   "outputs": [],
   "source": [
    "y=dataset[\"Purchase\"].values # convert to the array after it then"
   ]
  },
  {
   "cell_type": "code",
   "execution_count": 62,
   "id": "b396c257-779f-42d2-9407-6ed1244748cc",
   "metadata": {},
   "outputs": [
    {
     "data": {
      "text/plain": [
       "array(['Yes', 'No', 'Yes', 'No', 'Yes', 'Yes'], dtype=object)"
      ]
     },
     "execution_count": 62,
     "metadata": {},
     "output_type": "execute_result"
    }
   ],
   "source": [
    "y"
   ]
  },
  {
   "cell_type": "code",
   "execution_count": 63,
   "id": "096634e8-01fb-4630-ac9a-eed80db8f2b3",
   "metadata": {},
   "outputs": [],
   "source": [
    "#the find x and y mean dependent and independent \n"
   ]
  },
  {
   "cell_type": "code",
   "execution_count": 64,
   "id": "b67f8067-def9-4d64-a517-1e1d2cc8c8a5",
   "metadata": {},
   "outputs": [],
   "source": [
    "#shift and tab to see property\n",
    "#import sklearn.impute\n"
   ]
  },
  {
   "cell_type": "code",
   "execution_count": 65,
   "id": "ac7d8c1b-0956-4e30-8965-a163212712ea",
   "metadata": {},
   "outputs": [],
   "source": [
    "from sklearn.impute import SimpleImputer\n",
    "#import sklearn.impute not dropm goood way"
   ]
  },
  {
   "cell_type": "code",
   "execution_count": 71,
   "id": "b58f724d-f20e-4865-9b75-ad91a6b96cfb",
   "metadata": {},
   "outputs": [],
   "source": [
    "imputer=SimpleImputer(missing_values=np.nan,\n",
    "    strategy='mean')#filling missing value with the mean "
   ]
  },
  {
   "cell_type": "code",
   "execution_count": 72,
   "id": "c4c6208f-585f-4eae-9031-86d1e1acf1d7",
   "metadata": {},
   "outputs": [],
   "source": [
    "x=imputer.fit_transform(x[:,1:3])#contain all row and 1 t 3 column  here fit fit in dataset for estimate"
   ]
  },
  {
   "cell_type": "code",
   "execution_count": 73,
   "id": "61c4bd32-79ea-405b-b77c-a5ba1a0d8fdd",
   "metadata": {},
   "outputs": [],
   "source": [
    "#x[:,1:3]=imputer.tranform(x[:,1:3])#it says from  mean replmhe x values "
   ]
  },
  {
   "cell_type": "code",
   "execution_count": 74,
   "id": "85d05c59-8564-4d3d-b6f5-720630713acb",
   "metadata": {},
   "outputs": [
    {
     "data": {
      "text/plain": [
       "array([[ 44. , 565. ],\n",
       "       [ 34. , 545. ],\n",
       "       [ 42.4, 319.8],\n",
       "       [ 23. , 345. ],\n",
       "       [ 45. ,  68. ],\n",
       "       [ 66. ,  76. ]])"
      ]
     },
     "execution_count": 74,
     "metadata": {},
     "output_type": "execute_result"
    }
   ],
   "source": [
    "x#the here fill with meanvalue "
   ]
  },
  {
   "cell_type": "code",
   "execution_count": 19,
   "id": "3fe98092-3356-42d6-984f-3dab7acd182a",
   "metadata": {},
   "outputs": [],
   "source": [
    "#encoding the cateogrical data in \n",
    "#Means convert to the 1 and 0 format that is the yes and no to  "
   ]
  },
  {
   "cell_type": "code",
   "execution_count": 20,
   "id": "5f29fc90-a590-4d56-a876-e2baccf7adbc",
   "metadata": {},
   "outputs": [],
   "source": [
    "from sklearn.preprocessing import LabelEncoder"
   ]
  },
  {
   "cell_type": "code",
   "execution_count": 21,
   "id": "656dc517-ba41-4720-82ee-7ebfbc290f69",
   "metadata": {},
   "outputs": [],
   "source": [
    "Label_encoder_x=LabelEncoder()#creation fot of obje"
   ]
  },
  {
   "cell_type": "code",
   "execution_count": 22,
   "id": "32866e84-5384-4af5-905f-71b922c99f92",
   "metadata": {},
   "outputs": [],
   "source": [
    "#m m mdataset[\"country\"].replace({'italy':'1','france':'2','germanm':'3'},inplace=True)"
   ]
  },
  {
   "cell_type": "code",
   "execution_count": 23,
   "id": "42c61541-5912-46e4-a14c-a1108316fdc0",
   "metadata": {},
   "outputs": [],
   "source": [
    "x[:,0]=Label_encoder_x.fit_transform(x[:,0])"
   ]
  },
  {
   "cell_type": "code",
   "execution_count": 24,
   "id": "0dcda61b-f972-4e0e-9005-819183b9f062",
   "metadata": {},
   "outputs": [
    {
     "data": {
      "text/plain": [
       "array([0, 2, 1, 2, 0, 1], dtype=object)"
      ]
     },
     "execution_count": 24,
     "metadata": {},
     "output_type": "execute_result"
    }
   ],
   "source": [
    "x[:,0]"
   ]
  },
  {
   "cell_type": "code",
   "execution_count": 25,
   "id": "19aa34a6-e487-4dde-b3d5-41f6536ea04b",
   "metadata": {},
   "outputs": [
    {
     "data": {
      "text/plain": [
       "array([[0, 44.0, 565.0],\n",
       "       [2, 34.0, 545.0],\n",
       "       [1, nan, nan],\n",
       "       [2, 23.0, 345.0],\n",
       "       [0, 45.0, 68.0],\n",
       "       [1, 66.0, 76.0]], dtype=object)"
      ]
     },
     "execution_count": 25,
     "metadata": {},
     "output_type": "execute_result"
    }
   ],
   "source": [
    "x#means france 1 italy 3 ban2 germany 3"
   ]
  },
  {
   "cell_type": "code",
   "execution_count": 26,
   "id": "07a21d1b-4f19-4d8c-9178-a203b5480dc6",
   "metadata": {},
   "outputs": [],
   "source": [
    "from sklearn.preprocessing import OneHotEncoder #dummy encoding becom the here are values in numeric so to in "
   ]
  },
  {
   "cell_type": "code",
   "execution_count": 27,
   "id": "8b2143d4-7346-4a68-a9cd-d86600c40b25",
   "metadata": {},
   "outputs": [],
   "source": [
    "onehotencoder=OneHotEncoder()#obje"
   ]
  },
  {
   "cell_type": "code",
   "execution_count": 28,
   "id": "6a673124-95e4-4acc-b2b6-8f87b14c584c",
   "metadata": {},
   "outputs": [],
   "source": [
    "x=onehotencoder.fit_transform(dataset.Country.values.reshape(-1,1)).toarray()"
   ]
  },
  {
   "cell_type": "code",
   "execution_count": 29,
   "id": "e3a14ca0-e420-4abd-9eac-0669661d936d",
   "metadata": {},
   "outputs": [
    {
     "data": {
      "text/plain": [
       "array([[1., 0., 0.],\n",
       "       [0., 0., 1.],\n",
       "       [0., 1., 0.],\n",
       "       [0., 0., 1.],\n",
       "       [1., 0., 0.],\n",
       "       [0., 1., 0.]])"
      ]
     },
     "execution_count": 29,
     "metadata": {},
     "output_type": "execute_result"
    }
   ],
   "source": [
    "x"
   ]
  },
  {
   "cell_type": "code",
   "execution_count": 30,
   "id": "34362b56-3028-4a84-aed7-55a773f20a95",
   "metadata": {},
   "outputs": [],
   "source": [
    "label_encoder_y=LabelEncoder()#Then th edo  1 and 0 for the y"
   ]
  },
  {
   "cell_type": "code",
   "execution_count": 31,
   "id": "05bbe942-2531-43f4-ade6-407afd89ed04",
   "metadata": {},
   "outputs": [],
   "source": [
    "y=label_encoder_y.fit_transform(y)"
   ]
  },
  {
   "cell_type": "code",
   "execution_count": 32,
   "id": "a4a9cee3-ec76-4310-b14b-5bcba9b436c6",
   "metadata": {},
   "outputs": [
    {
     "data": {
      "text/plain": [
       "array([1, 0, 1, 0, 1, 1])"
      ]
     },
     "execution_count": 32,
     "metadata": {},
     "output_type": "execute_result"
    }
   ],
   "source": [
    "y"
   ]
  },
  {
   "cell_type": "code",
   "execution_count": 33,
   "id": "fa17a749-3b56-4044-af8d-3a32c7326d29",
   "metadata": {},
   "outputs": [],
   "source": [
    "from sklearn.model_selection import train_test_split#m then split  means test and train "
   ]
  },
  {
   "cell_type": "code",
   "execution_count": 34,
   "id": "9d5af2ac-7d88-41f8-aa12-cd900a57b461",
   "metadata": {},
   "outputs": [],
   "source": [
    "x_train,y_train,x_test,y_test=train_test_split(x,y,test_size=0.2,random_state=0) #m the 0.2 mea 20 percen test and remain 80 3 to train for same result random 0mmm"
   ]
  },
  {
   "cell_type": "code",
   "execution_count": 35,
   "id": "a8543130-4408-403e-b124-09d4a082d8bc",
   "metadata": {},
   "outputs": [
    {
     "data": {
      "text/plain": [
       "array([[0., 0., 1.],\n",
       "       [0., 0., 1.],\n",
       "       [1., 0., 0.],\n",
       "       [1., 0., 0.]])"
      ]
     },
     "execution_count": 35,
     "metadata": {},
     "output_type": "execute_result"
    }
   ],
   "source": [
    "x_train"
   ]
  },
  {
   "cell_type": "code",
   "execution_count": 36,
   "id": "4ead2956-ff27-4af8-9ca6-60192757e84d",
   "metadata": {},
   "outputs": [
    {
     "data": {
      "text/plain": [
       "array([1, 1])"
      ]
     },
     "execution_count": 36,
     "metadata": {},
     "output_type": "execute_result"
    }
   ],
   "source": [
    "y_test"
   ]
  },
  {
   "cell_type": "code",
   "execution_count": 37,
   "id": "4501c14d-8bff-451a-8e6e-ad4825941338",
   "metadata": {},
   "outputs": [
    {
     "data": {
      "text/plain": [
       "array([[0., 1., 0.],\n",
       "       [0., 1., 0.]])"
      ]
     },
     "execution_count": 37,
     "metadata": {},
     "output_type": "execute_result"
    }
   ],
   "source": [
    "y_train"
   ]
  },
  {
   "cell_type": "code",
   "execution_count": 38,
   "id": "76c67685-2918-4641-9a23-b50909edeebf",
   "metadata": {},
   "outputs": [
    {
     "data": {
      "text/plain": [
       "array([0, 0, 1, 1])"
      ]
     },
     "execution_count": 38,
     "metadata": {},
     "output_type": "execute_result"
    }
   ],
   "source": [
    "x_test\n",
    "#preprocess,traintestthen,linear,multipleregression"
   ]
  },
  {
   "cell_type": "code",
   "execution_count": 39,
   "id": "d5a6736e-e38e-47e5-877f-a661e1ad48e8",
   "metadata": {},
   "outputs": [],
   "source": [
    "reshape=np.array([x_test]).reshape(-1,1)"
   ]
  },
  {
   "cell_type": "code",
   "execution_count": 40,
   "id": "31519e53-30eb-4c94-aff4-93eca8ba031f",
   "metadata": {},
   "outputs": [],
   "source": [
    " from  sklearn.preprocessing import StandardScaler  #m feature scalingm datae to be same scale"
   ]
  },
  {
   "cell_type": "code",
   "execution_count": 41,
   "id": "c7d5c814-f708-45d7-a9f2-cb613eda26b4",
   "metadata": {},
   "outputs": [],
   "source": [
    "sc_x=StandardScaler()#m create obje "
   ]
  },
  {
   "cell_type": "code",
   "execution_count": 42,
   "id": "bb58fbf8-ac83-4d42-8088-ce842c416b60",
   "metadata": {},
   "outputs": [],
   "source": [
    "x_train=sc_x.fit_transform(reshape)"
   ]
  },
  {
   "cell_type": "code",
   "execution_count": 43,
   "id": "7c64c331-2b9e-4927-ad56-45a0e7c7e502",
   "metadata": {},
   "outputs": [],
   "source": [
    "x_test=sc_x.transform(reshape)"
   ]
  },
  {
   "cell_type": "code",
   "execution_count": 44,
   "id": "810a3427-8c40-4469-8fd0-50f045dc8e55",
   "metadata": {},
   "outputs": [
    {
     "data": {
      "text/plain": [
       "array([[-1.],\n",
       "       [-1.],\n",
       "       [ 1.],\n",
       "       [ 1.]])"
      ]
     },
     "execution_count": 44,
     "metadata": {},
     "output_type": "execute_result"
    }
   ],
   "source": [
    "x_train#m ataset read to fit algoritm here m"
   ]
  },
  {
   "cell_type": "code",
   "execution_count": 45,
   "id": "67141535-e4c0-4e53-98cc-5a1c0c42a84f",
   "metadata": {},
   "outputs": [
    {
     "data": {
      "text/plain": [
       "array([[-1.],\n",
       "       [-1.],\n",
       "       [ 1.],\n",
       "       [ 1.]])"
      ]
     },
     "execution_count": 45,
     "metadata": {},
     "output_type": "execute_result"
    }
   ],
   "source": [
    "x_test "
   ]
  },
  {
   "cell_type": "code",
   "execution_count": null,
   "id": "5ca591e7-9371-4c10-a928-0ed600a209e6",
   "metadata": {},
   "outputs": [],
   "source": []
  },
  {
   "cell_type": "code",
   "execution_count": null,
   "id": "e15ded07-9c79-4992-bdb3-a3ef747f4753",
   "metadata": {},
   "outputs": [],
   "source": []
  },
  {
   "cell_type": "code",
   "execution_count": null,
   "id": "82dfa03f-e7c7-4721-8e7a-48b19bc873da",
   "metadata": {},
   "outputs": [],
   "source": []
  }
 ],
 "metadata": {
  "kernelspec": {
   "display_name": "Python 3 (ipykernel)",
   "language": "python",
   "name": "python3"
  },
  "language_info": {
   "codemirror_mode": {
    "name": "ipython",
    "version": 3
   },
   "file_extension": ".py",
   "mimetype": "text/x-python",
   "name": "python",
   "nbconvert_exporter": "python",
   "pygments_lexer": "ipython3",
   "version": "3.12.1"
  }
 },
 "nbformat": 4,
 "nbformat_minor": 5
}
